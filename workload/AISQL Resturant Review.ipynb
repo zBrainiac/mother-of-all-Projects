{
 "cells": [
  {
   "cell_type": "markdown",
   "id": "b49aca23-454c-47b9-8de5-3e3c33f3f483",
   "metadata": {
    "collapsed": false,
    "name": "HEADER"
   },
   "source": [
    "# AI SQL\n",
    "AISQL delivers an easy-to-use composable query language that handles both text and multimodal data through familiar SQL syntax. Our high-performance batch engine processes queries faster through intelligent query optimization, while delivering lower costs than traditional AI solutions. Natively ingest structured and unstructured data into unified multimodal tables, enabling comprehensive insights through familiar SQL analytics for all your data.\n",
    "\n",
    "## AI SQL Benefits:\n",
    "### 1) Easy-to-use SQL syntax to build AI pipelines without complex coding\n",
    "### 2) High-performance processing across all modalities (text, image, audio)\n",
    "### 3) Lower cost batch processing through optimized architecture to support faster and larger batch jobs.\n",
    "\n",
    "\n",
    "## Three Major function calls\n",
    "### AI_FILTER\n",
    "    AI-powered SQL operator for semantic filtering. You can use the same syntax on a single table (for filtering) or join multiple tables together upon a semantic relationship. \n",
    "\n",
    "### AI_AGG/AI_SUMMARIZE_AGG\n",
    "    Advanced functionalities provide unmatched comprehensive analysis across multiple data entries with a user prompt. This method overcomes contextual window constraints, facilitating extensive multi-record examination with no comparable solutions in the market.\n",
    "\n",
    "### AI_CLASSIFY\n",
    "    Functions for easy classification across multi-modal data"
   ]
  },
  {
   "cell_type": "markdown",
   "id": "ada6a840-fd89-44a2-a7ff-a49a08c605e4",
   "metadata": {
    "collapsed": false,
    "name": "Resturant_Review_Header"
   },
   "source": [
    "# Resturant Review Batch Unstructured Processing\n",
    "\n",
    "Snowflake's AI powered functions enable column level operations with LLM like traditional database operators. \n",
    "\n",
    "Image Processing\n",
    "1. Load data into FILE column\n",
    "2. Using COMPLETE(IMAGE) Function to add descriptions for each image\n",
    "3. Using AI_FILTER(IMAGE) and AI_CLASSIFY(IMAGE) to filter/classify accordingly.\n",
    "4. Using AI_FILTER() to join food IMAGE with corresponding text from the food menu."
   ]
  },
  {
   "cell_type": "markdown",
   "id": "98c2dde5-4746-49ba-a636-8c990bb36a87",
   "metadata": {
    "collapsed": false,
    "name": "Import_Libraries_Header"
   },
   "source": [
    "With this import we can run streamlit, pandas, and the snowbook extras python script we imported.  The snowbook extras allows us to view the images in table format below."
   ]
  },
  {
   "cell_type": "code",
   "execution_count": null,
   "id": "6ea10dc3-6e76-47ee-9c17-20f06d832ae5",
   "metadata": {
    "language": "python",
    "name": "Import_libraries"
   },
   "outputs": [],
   "source": [
    "import streamlit as st\n",
    "import pandas as pd\n",
    "import snowbooks_extras"
   ]
  },
  {
   "cell_type": "code",
   "execution_count": null,
   "id": "31e4cbae-b53c-4349-a140-b9304f0cf5a1",
   "metadata": {
    "language": "sql",
    "name": "Create_Image_table_SQL"
   },
   "outputs": [],
   "source": [
    "query = \"\"\"\n",
    "create or replace table img_tbl as\n",
    "select to_file(file_url) img_file, * from directory(@FOODIMAGES);\"\"\""
   ]
  },
  {
   "cell_type": "code",
   "execution_count": null,
   "id": "a543fc85-b6c4-49eb-bc32-cf522d57c281",
   "metadata": {
    "language": "sql",
    "name": "Review_Image_Table_Desc"
   },
   "outputs": [],
   "source": [
    "desc table img_tbl;"
   ]
  },
  {
   "cell_type": "markdown",
   "id": "5619a5ca-3630-4169-b36f-f8b16cec0a43",
   "metadata": {
    "collapsed": false,
    "name": "Review_Images_Header"
   },
   "source": [
    "Below we can see the file images using our snowbooks_extras.py helper file and see the data we are working with.  You can click the image below to see a larger image"
   ]
  },
  {
   "cell_type": "code",
   "execution_count": null,
   "id": "0ce5e259-c6a6-46df-a034-7396cb34d018",
   "metadata": {
    "language": "sql",
    "name": "Review_Image_Table_SQL"
   },
   "outputs": [],
   "source": [
    "select img_file, file_url, last_modified from img_tbl"
   ]
  },
  {
   "cell_type": "markdown",
   "id": "dbbf5697-c50a-4ccc-8f49-8a860fdb638c",
   "metadata": {
    "collapsed": false,
    "name": "HelperFunction_Promp_Header"
   },
   "source": [
    "Below we use a helper function in the cortex complete to prompt to read the image and write an advertisement for the dish in the image."
   ]
  },
  {
   "cell_type": "code",
   "execution_count": null,
   "id": "04ed4c1d-67cb-49b7-87b3-007d664aca6c",
   "metadata": {
    "language": "sql",
    "name": "AISQL_Prompt_SQL"
   },
   "outputs": [],
   "source": [
    "-- test complete(image)\n",
    "select \n",
    "    img_file,\n",
    "    snowflake.cortex.complete('pixtral-large', prompt('Write me an advertisement tagline for this dish: {0}', img_file)),\n",
    "    file_url,\n",
    "    last_modified\n",
    "    from img_tbl;"
   ]
  },
  {
   "cell_type": "markdown",
   "id": "e2322cfe-befb-48e8-b5dc-66be7972da90",
   "metadata": {
    "collapsed": false,
    "name": "AIFILTER_isDessert_header"
   },
   "source": [
    "Now we will run a new [AI_FILTER](https://docs.snowflake.com/LIMITEDACCESS/snowflake-cortex/ai_filter) to filter out the images and look only for those that are desserts from our list of images. We want to user AI_FILTER with a prompt to help us tell if the image in the picture is a dessert.  Please edit the code below in the where statement properly use the AI_FILTER"
   ]
  },
  {
   "cell_type": "code",
   "execution_count": null,
   "id": "3ea89650-a124-428e-8e13-a335dd289ba3",
   "metadata": {
    "language": "sql",
    "name": "AISQL_AIFILTER_isDessert_SQL"
   },
   "outputs": [],
   "source": [
    "select img_file, relative_path, file_url, last_modified from img_tbl\n",
    "--Add a where clause that uses AI_FILTER and has a prompt trying to find out if the image is a dessert"
   ]
  },
  {
   "cell_type": "markdown",
   "id": "721b77b2-a91e-4dde-84bd-627157206b07",
   "metadata": {
    "collapsed": false,
    "name": "AIClassify_Header"
   },
   "source": [
    "Let's further classify these images using [AI_CLASSIFY](https://docs.snowflake.com/LIMITEDACCESS/snowflake-cortex/ai_classify).  We specify what classifications we want in the prompt and ask the GenAI model to break up the images into those classes"
   ]
  },
  {
   "cell_type": "code",
   "execution_count": null,
   "id": "d4b8d20d-bbc7-4d10-acb1-615809b01230",
   "metadata": {
    "language": "sql",
    "name": "AISQL_AICLASSIFY_SQL"
   },
   "outputs": [],
   "source": [
    "select\n",
    "    img_file, \n",
    "    relative_path,\n",
    "    --add an AI_CLASSIFY function with a prompt that will help you classify the food into a dessert, drink, main dish, or side dish\n",
    "    ,\n",
    "    file_url, last_modified\n",
    "from img_tbl;"
   ]
  },
  {
   "cell_type": "markdown",
   "id": "15aedd89-c87b-4b79-8614-7bd54f4a02ee",
   "metadata": {
    "collapsed": false,
    "name": "Create_Menu_Header"
   },
   "source": [
    "We are now going to create a menu, we will simply do this by using a regex expression to read the file name and remove special characters and numbers as our files have pretty good descriptors of the contents.  We store this into the FOOD_IMAGE for later processing"
   ]
  },
  {
   "cell_type": "code",
   "execution_count": null,
   "id": "7d2cccb6-1946-496f-86b0-eb64366ffd04",
   "metadata": {
    "language": "sql",
    "name": "Create_Menu_From_Filename"
   },
   "outputs": [],
   "source": [
    "create or replace table food_menu as\n",
    "select relative_path, REPLACE(\n",
    "        REGEXP_REPLACE(\n",
    "            REGEXP_REPLACE(relative_path, '^class_', ''),\n",
    "            '_[0-9]+\\\\.jpg$', ''\n",
    "        ),\n",
    "        '_', ' '\n",
    "    ) as item\n",
    "from img_tbl;\n",
    "\n",
    "select * from food_menu;"
   ]
  },
  {
   "cell_type": "markdown",
   "id": "f3269199-1e0a-44b7-976f-bce1f6514f98",
   "metadata": {
    "collapsed": false,
    "name": "AIFILTER_JOIN_Header"
   },
   "source": [
    "Lets use AI_FILTER to do a join from the food_menu to the img_tble.  Here we are joining text to an image.  We can see the restuls are pretty good but not perfect.\n",
    "\n",
    "CROSS JOIN + AI_FILTER can also be used to do semantic joins, leveraging AI capacity to match between two tables.\n"
   ]
  },
  {
   "cell_type": "code",
   "execution_count": null,
   "id": "e672f453-75d2-487c-aacd-08ffb8526943",
   "metadata": {
    "language": "sql",
    "name": "AISQL_AIFILTER_JOIN"
   },
   "outputs": [],
   "source": [
    "select img_tbl.img_file,\n",
    "    food_menu.item\n",
    "    from food_menu\n",
    "    join img_tbl\n",
    "    -- join on an AI_FILTER with a prompt that the image is referring to what the item description is that we just created"
   ]
  },
  {
   "cell_type": "markdown",
   "id": "48b8e6c6-e07a-468b-a812-a1413257d5ee",
   "metadata": {
    "collapsed": false,
    "name": "AI_AGG_Header"
   },
   "source": [
    "Lets take a look back at just pure text and AI functions there. We will look at the DOORDASH_100 table which has multiple rows of reviews and we will use AI_AGG to aggregate those together"
   ]
  },
  {
   "cell_type": "code",
   "execution_count": null,
   "id": "73adb4aa-8412-4a12-ac3b-5c15c3dae034",
   "metadata": {
    "language": "sql",
    "name": "Read_Doordash_Table_SQL"
   },
   "outputs": [],
   "source": [
    "select * from doordash_100;"
   ]
  },
  {
   "cell_type": "markdown",
   "id": "cd1c09cd-8c46-4b89-963d-3140a9057505",
   "metadata": {
    "collapsed": false,
    "name": "Insights_Header"
   },
   "source": [
    "Let's use cortex complete to create structured insights into our reviews from above.  We want to pull out primary issues, delivery timeliness, food temperature, value assessment, and sepcial occasion from our reviews from DoorDash"
   ]
  },
  {
   "cell_type": "code",
   "execution_count": null,
   "id": "8de689fc-2309-4700-8678-246f43c958cc",
   "metadata": {
    "language": "sql",
    "name": "Extract_Key_Details_Cortex_Doordash_SQL"
   },
   "outputs": [],
   "source": [
    "SELECT *,\n",
    "\n",
    "       -- snowflake.cortex.sentiment(review_text) AS sentiment_score,\n",
    "\n",
    "       snowflake.cortex.complete('claude-3-5-sonnet', \n",
    "       [{\n",
    "        'role': 'user',\n",
    "        'content': CONCAT(\n",
    "\n",
    "               'Analyze the following review text and extract key details. Respond ONLY with a JSON object containing the following keys:\n",
    "\n",
    "               1. \"primary_issue\": Categorize the main issue into one of the following: [\"food_quality\", \"delivery_experience\", \"order_accuracy\", \"customer_service\", \"no_issue\"]. If the sentiment is positive, use \"no_issue\".\n",
    "\n",
    "               2. \"delivery_timeliness\": If applicable, categorize as \"delayed\", \"on_time\", \"early\", or \"not_mentioned\".\n",
    "\n",
    "               3. \"food_temperature\": Categorize as \"too_cold\", \"too_hot\", \"just_right\", or \"not_mentioned\".\n",
    "\n",
    "               4. \"value_assessment\": Categorize as \"overpriced\", \"worth_it\", \"great_value\", or \"not_mentioned\".\n",
    "\n",
    "               5. \"special_occasion\": Indicate if this was for a special occasion (like a birthday or anniversary) as \"yes\" or \"no\".\n",
    "\n",
    "               DO NOT MAKE ANYTHING UP - FOLLOW THE ABOVE CATEGORIES\n",
    "\n",
    "               Ensure that the JSON object is complete and that each value is concise.\n",
    "\n",
    "               Example response:\n",
    "\n",
    "               {\"primary_issue\": \"food_quality\", \"delivery_timeliness\": \"delayed\", \"food_temperature\": \"too_cold\", \"value_assessment\": \"overpriced\", \"special_occasion\": \"yes\", \"would_order_again\": \"no\"}\n",
    "\n",
    "               Provide ONLY the JSON object in your response, with no additional text.\n",
    "\n",
    "               ', review_text)\n",
    "        }],\n",
    "        {\n",
    "        'response_format':{\n",
    "            'type':'json',\n",
    "            'schema':{'type' : 'object','properties': {\n",
    "                'primary_issue': {'type': 'string'},\n",
    "                'delivery_timeliness': {'type': 'string'},\n",
    "                'food_temperature': {'type': 'string'},\n",
    "                'value_assessment': {'type': 'string'},\n",
    "                'special_occasion': {'type': 'string'}\n",
    "            }\n",
    "            }}\n",
    "        }\n",
    "       ) AS review_response,\n",
    "    review_response:structured_output[0]:raw_message as parsed_review,\n",
    "    PARSE_JSON(parsed_review):primary_issue::STRING AS primary_issue,\n",
    "    PARSE_JSON(parsed_review):delivery_timeliness::STRING AS delivery_timeliness,\n",
    "    PARSE_JSON(parsed_review):food_temperature::STRING AS food_temperature,\n",
    "    PARSE_JSON(parsed_review):value_assessment::STRING AS value_assessment,\n",
    "    PARSE_JSON(parsed_review):special_occasion::STRING AS special_occasion\n",
    "\n",
    "FROM doordash_100;"
   ]
  },
  {
   "cell_type": "markdown",
   "id": "44bbce3e-3381-402e-8576-52315b1b99d2",
   "metadata": {
    "collapsed": false,
    "name": "AI_FILTER_Header"
   },
   "source": [
    "Now we can filter those reviews using [AI_FILTER (PrPr)](https://docs.snowflake.com/LIMITEDACCESS/snowflake-cortex/ai_filter-snowflake-cortex) on the context we added previously and look for reviews that mentioned a special occasion like a birthday or other"
   ]
  },
  {
   "cell_type": "code",
   "execution_count": null,
   "id": "b443bc86-5cca-49f0-9a0b-f4ee91e6bcc8",
   "metadata": {
    "language": "sql",
    "name": "AIFILTER_Find_Resturants_for_Special_Occasion_SQL"
   },
   "outputs": [],
   "source": [
    "-- Find reviews mentioning special occasions\n",
    "SELECT \n",
    "    restaurant_name,\n",
    "    RESTAURANT_CUISINE_TYPE,\n",
    "    order_type,\n",
    "    rating,\n",
    "    review_text\n",
    "FROM doordash_100\n",
    "--add a where clause with AI_FILTER to look for review text that mentiones a birthday or special occasion"
   ]
  },
  {
   "cell_type": "markdown",
   "id": "b404d632-0f5d-4a65-8d29-cd5420127d06",
   "metadata": {
    "collapsed": false,
    "name": "AIAGG_Header"
   },
   "source": [
    "Now we can also apply an aggregate function using [AI_AGG](https://docs.snowflake.com/LIMITEDACCESS/snowflake-cortex/ai_agg).  We will bring together reviews that have more than one for the same resturant and see what the system comes back with.  Most of our data has only one review for a resturant but there are 3 that have 2 so we can focus on those.\n",
    "\n",
    "There is nothing to change in this code to get it to run, since the prompt was a little complex we decided to just show you how you could use this feature"
   ]
  },
  {
   "cell_type": "code",
   "execution_count": null,
   "id": "f5f645e3-0f57-4211-92db-75359bd188ba",
   "metadata": {
    "language": "sql",
    "name": "AIAGG_SQL"
   },
   "outputs": [],
   "source": [
    "-- 4.1 Restaurant Review Analysis By Cusine type.\n",
    "-- Extract key insights and improvement recommendations for each restaurant\n",
    "create or replace table aiagg_Strengths as (\n",
    "SELECT  RESTAURANT_NAME,\n",
    "        RESTAURANT_CUISINE_TYPE,\n",
    "        AI_AGG('Resturant Name: '|| RESTAURANT_NAME || '\\n\\nCuisine type: '|| RESTAURANT_CUISINE_TYPE || '\\n\\nFeedback: ' || review_text, \n",
    "       'Analyze these reviews for this specific cuisine type of restaurant. Identify the top strengths and weaknesses mentioned by customers. Provide 2-3 specific recommendations for improvement based on customer feedback.') as analysis\n",
    "FROM doordash_100 \n",
    "where restaurant_id in (749,920,628)\n",
    "GROUP BY all);\n",
    "\n",
    "select * from aiagg_Strengths"
   ]
  },
  {
   "cell_type": "markdown",
   "id": "8cb0832f-bafe-4832-9b4a-5c91feb8a9b7",
   "metadata": {
    "collapsed": false,
    "name": "AIAGG_OrderType_Header"
   },
   "source": [
    "Now lets aggregate to a delivery type level.  Now we are bringing together more rows into just 3 output levels of delivery, dine-in, and takeout"
   ]
  },
  {
   "cell_type": "code",
   "execution_count": null,
   "id": "247b434a-4d59-43c2-8504-97c71c87b582",
   "metadata": {
    "language": "sql",
    "name": "AIAGG_OrderType_SQL"
   },
   "outputs": [],
   "source": [
    "-- 5.1 Feedback Summarization by Order Type\n",
    "create or replace table aiagg_OrderType as (\n",
    "SELECT\n",
    "    order_type,\n",
    "    AI_AGG('Order type: '|| order_type || '\\n\\nFeedback: ' || review_text, \n",
    "        'Analyze this customer feedback for DoorDash operations. Identify the main pain points and positive aspects of the experience. What specific operational improvements could be made?') \n",
    "        AS operational_insights\n",
    "FROM doordash_100\n",
    "GROUP BY order_type);\n",
    "\n",
    "select * from aiagg_OrderType;"
   ]
  },
  {
   "cell_type": "markdown",
   "id": "61df56a7-51db-48d7-ad39-c24f213a15bf",
   "metadata": {
    "collapsed": false,
    "name": "SUMMARIZE_AGG_Header"
   },
   "source": [
    "Finally we will summarize across all rating levels to see what people are saying using the [SUMMARIZE_AGG](https://docs.snowflake.com/LIMITEDACCESS/snowflake-cortex/summarize_agg) function."
   ]
  },
  {
   "cell_type": "code",
   "execution_count": null,
   "id": "36b73ccf-e12b-4d23-9c3f-936c467f1df2",
   "metadata": {
    "language": "sql",
    "name": "SUMMARIZE_AGG_SQL"
   },
   "outputs": [],
   "source": [
    "-- 5.2 Restaurant Rating Analysis\n",
    "-- Generate summaries by rating category to understand different customer experiences\n",
    "create or replace table summarizeagg_experience as (\n",
    "SELECT\n",
    "    rating,\n",
    "    --add SUMMARIZE_AGG function that will summarize the review_text and create a new column name experience_summary\n",
    "FROM doordash_100\n",
    "GROUP BY rating\n",
    "order by rating);\n",
    "\n",
    "Select * from summarizeagg_experience;"
   ]
  },
  {
   "cell_type": "markdown",
   "id": "969fd257-9ff0-47ed-afb3-cf14bf6bce00",
   "metadata": {
    "collapsed": false,
    "name": "AI_CLASSIFY_Header"
   },
   "source": [
    "Lets use [AI_CLASSIFY](https://docs.snowflake.com/LIMITEDACCESS/snowflake-cortex/ai_classify) to classify the column into categories (food quality issues, portion sizes and pricing, delivery time and effeiceincy, ambiance and atmosphere, customer service, flavor)"
   ]
  },
  {
   "cell_type": "code",
   "execution_count": null,
   "id": "860d9f59-b79b-460b-9af8-3fb50301712d",
   "metadata": {
    "codeCollapsed": false,
    "language": "sql",
    "name": "AI_CLASSIFY_SQL"
   },
   "outputs": [],
   "source": [
    "-- 4.1 Restaurant Review Analysis By Cusine type.\n",
    "-- Extract key insights and improvement recommendations for each restaurant\n",
    "create or replace table aiclassify_review as (\n",
    "SELECT  rating,\n",
    "review_date,\n",
    "order_type,\n",
    "review_text,\n",
    "Restaurant_name,\n",
    "Restaurant_cuisine_type,\n",
    "--use the AI_CLASSIFY function to analyze review_text and classify the following types of reviews: food quality issues, portion sizes and pricing, delivery time and efficiency, ambiance and atmosphere, customer service, flavor and name it the analysis column\n",
    "FROM doordash_100\n",
    "GROUP BY all);\n",
    "\n",
    "select * from aiclassify_review;"
   ]
  }
 ],
 "metadata": {
  "kernelspec": {
   "display_name": "Streamlit Notebook",
   "name": "streamlit"
  },
  "lastEditStatus": {
   "authorEmail": "dan.murphy@Snowflake.com",
   "authorId": "202342807950",
   "authorName": "MURPH2481",
   "lastEditTime": 1747171551429,
   "notebookId": "6urmy6p7e37eyfp3l5zs",
   "sessionId": "08ad502c-ee54-4ecb-9ab8-0d8bc4b6d22e"
  }
 },
 "nbformat": 4,
 "nbformat_minor": 5
}
